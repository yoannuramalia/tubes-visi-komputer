{
  "cells": [
    {
      "cell_type": "markdown",
      "metadata": {
        "id": "oEJ7qStsii_1"
      },
      "source": [
        "# Menghubungkan ke GDrive"
      ]
    },
    {
      "cell_type": "code",
      "execution_count": 136,
      "metadata": {
        "colab": {
          "base_uri": "https://localhost:8080/"
        },
        "id": "OQ_NsFtuietW",
        "outputId": "28a2660b-fa3f-4a49-d5c0-f5cb72180f37"
      },
      "outputs": [
        {
          "output_type": "stream",
          "name": "stdout",
          "text": [
            "Drive already mounted at /content/drive; to attempt to forcibly remount, call drive.mount(\"/content/drive\", force_remount=True).\n"
          ]
        }
      ],
      "source": [
        "#menghubungkan google drive\n",
        "from google.colab import drive\n",
        "drive.mount('/content/drive')"
      ]
    },
    {
      "cell_type": "markdown",
      "metadata": {
        "id": "CKacjeuYizkb"
      },
      "source": [
        "# Setting Darknet YOLO"
      ]
    },
    {
      "cell_type": "code",
      "execution_count": 137,
      "metadata": {
        "colab": {
          "base_uri": "https://localhost:8080/"
        },
        "id": "L743koqQiwCi",
        "outputId": "b055e356-6b02-42af-9d7d-ea44a8a2679a"
      },
      "outputs": [
        {
          "output_type": "stream",
          "name": "stdout",
          "text": [
            "Cloning into '/content/drive/My Drive/1301174673/Yolo/darknet'...\n",
            "remote: Enumerating objects: 15424, done.\u001b[K\n",
            "remote: Counting objects: 100% (1/1), done.\u001b[K\n",
            "remote: Total 15424 (delta 0), reused 1 (delta 0), pack-reused 15423\u001b[K\n",
            "Receiving objects: 100% (15424/15424), 14.03 MiB | 7.40 MiB/s, done.\n",
            "Resolving deltas: 100% (10365/10365), done.\n",
            "Checking out files: 100% (2050/2050), done.\n"
          ]
        }
      ],
      "source": [
        "# clone darknet repository dari AlexeyAB\n",
        "!git clone 'https://github.com/AlexeyAB/darknet' '/content/drive/My Drive/1301174673/Yolo/darknet'"
      ]
    },
    {
      "cell_type": "code",
      "execution_count": 138,
      "metadata": {
        "colab": {
          "base_uri": "https://localhost:8080/"
        },
        "id": "m-S_dmEGjcbs",
        "outputId": "1812cb69-4d1e-4f41-b4c7-12e816170a23"
      },
      "outputs": [
        {
          "output_type": "stream",
          "name": "stdout",
          "text": [
            "/content/drive/My Drive/1301174673/Yolo/darknet\n"
          ]
        }
      ],
      "source": [
        "# mengubah makefile untuk mengaktifkan GPU, OPENCV and LIBSO\n",
        "%cd /content/drive/My Drive/1301174673/Yolo/darknet\n",
        "!sed -i 's/OPENCV=0/OPENCV=1/' Makefile\n",
        "!sed -i 's/GPU=0/GPU=1/' Makefile\n",
        "!sed -i 's/CUDNN=0/CUDNN=1/' Makefile\n",
        "!sed -i 's/CUDNN_HALF=0/CUDNN_HALF=1/' Makefile\n",
        "!sed -i 's/LIBSO=0/LIBSO=1/' Makefile"
      ]
    },
    {
      "cell_type": "code",
      "execution_count": 150,
      "metadata": {
        "colab": {
          "base_uri": "https://localhost:8080/"
        },
        "id": "h_LIK4YAjkxu",
        "outputId": "61832c61-b042-48d3-a276-35a33e502fd9"
      },
      "outputs": [
        {
          "output_type": "stream",
          "name": "stdout",
          "text": [
            "make: *** No targets specified and no makefile found.  Stop.\n"
          ]
        }
      ],
      "source": [
        "# make darknet (builds darknet so that you can then use the darknet executable file to run or train object detectors)\n",
        "!make"
      ]
    },
    {
      "cell_type": "markdown",
      "metadata": {
        "id": "NpOmKy7Kylmc"
      },
      "source": [
        "# Dataset"
      ]
    },
    {
      "cell_type": "code",
      "source": [
        "#membuka file zip\n",
        "!unzip '/content/drive/My Drive/1301174673/Yolo/images.zip' -d '/content/drive/My Drive/1301174673/Yolo'"
      ],
      "metadata": {
        "id": "L0uIncRi71w4",
        "colab": {
          "base_uri": "https://localhost:8080/"
        },
        "outputId": "8ffdde3a-d6af-447f-ecd7-a7cb5ede988d"
      },
      "execution_count": 141,
      "outputs": [
        {
          "output_type": "stream",
          "name": "stdout",
          "text": [
            "Archive:  /content/drive/My Drive/1301174673/Yolo/images.zip\n",
            "  inflating: /content/drive/My Drive/1301174673/Yolo/images/001.jpg  \n",
            "  inflating: /content/drive/My Drive/1301174673/Yolo/images/001.txt  \n",
            "  inflating: /content/drive/My Drive/1301174673/Yolo/images/002.jpg  \n",
            "  inflating: /content/drive/My Drive/1301174673/Yolo/images/002.txt  \n",
            "  inflating: /content/drive/My Drive/1301174673/Yolo/images/003.jpg  \n",
            "  inflating: /content/drive/My Drive/1301174673/Yolo/images/003.txt  \n",
            "  inflating: /content/drive/My Drive/1301174673/Yolo/images/004.jpg  \n",
            "  inflating: /content/drive/My Drive/1301174673/Yolo/images/004.txt  \n",
            "  inflating: /content/drive/My Drive/1301174673/Yolo/images/005.jpg  \n",
            "  inflating: /content/drive/My Drive/1301174673/Yolo/images/005.txt  \n",
            "  inflating: /content/drive/My Drive/1301174673/Yolo/images/006.jpg  \n",
            "  inflating: /content/drive/My Drive/1301174673/Yolo/images/006.txt  \n",
            "  inflating: /content/drive/My Drive/1301174673/Yolo/images/007.jpg  \n",
            "  inflating: /content/drive/My Drive/1301174673/Yolo/images/007.txt  \n",
            "  inflating: /content/drive/My Drive/1301174673/Yolo/images/008.jpg  \n",
            "  inflating: /content/drive/My Drive/1301174673/Yolo/images/008.txt  \n",
            "  inflating: /content/drive/My Drive/1301174673/Yolo/images/009.jpg  \n",
            "  inflating: /content/drive/My Drive/1301174673/Yolo/images/009.txt  \n",
            "  inflating: /content/drive/My Drive/1301174673/Yolo/images/010.jpg  \n",
            "  inflating: /content/drive/My Drive/1301174673/Yolo/images/010.txt  \n",
            "  inflating: /content/drive/My Drive/1301174673/Yolo/images/011.jpg  \n",
            "  inflating: /content/drive/My Drive/1301174673/Yolo/images/011.txt  \n",
            "  inflating: /content/drive/My Drive/1301174673/Yolo/images/012.jpg  \n",
            "  inflating: /content/drive/My Drive/1301174673/Yolo/images/012.txt  \n",
            "  inflating: /content/drive/My Drive/1301174673/Yolo/images/013.jpg  \n",
            "  inflating: /content/drive/My Drive/1301174673/Yolo/images/013.txt  \n",
            "  inflating: /content/drive/My Drive/1301174673/Yolo/images/014.jpg  \n",
            "  inflating: /content/drive/My Drive/1301174673/Yolo/images/014.txt  \n",
            "  inflating: /content/drive/My Drive/1301174673/Yolo/images/016.jpg  \n",
            "  inflating: /content/drive/My Drive/1301174673/Yolo/images/016.txt  \n",
            "  inflating: /content/drive/My Drive/1301174673/Yolo/images/017.jpg  \n",
            "  inflating: /content/drive/My Drive/1301174673/Yolo/images/017.txt  \n",
            "  inflating: /content/drive/My Drive/1301174673/Yolo/images/018.jpg  \n",
            "  inflating: /content/drive/My Drive/1301174673/Yolo/images/018.txt  \n",
            "  inflating: /content/drive/My Drive/1301174673/Yolo/images/019.jpg  \n",
            "  inflating: /content/drive/My Drive/1301174673/Yolo/images/019.txt  \n",
            "  inflating: /content/drive/My Drive/1301174673/Yolo/images/020.jpg  \n",
            "  inflating: /content/drive/My Drive/1301174673/Yolo/images/020.txt  \n",
            "  inflating: /content/drive/My Drive/1301174673/Yolo/images/021.jpg  \n",
            "  inflating: /content/drive/My Drive/1301174673/Yolo/images/021.txt  \n",
            "  inflating: /content/drive/My Drive/1301174673/Yolo/images/022.jpg  \n",
            "  inflating: /content/drive/My Drive/1301174673/Yolo/images/022.txt  \n",
            "  inflating: /content/drive/My Drive/1301174673/Yolo/images/023.jpg  \n",
            "  inflating: /content/drive/My Drive/1301174673/Yolo/images/023.txt  \n",
            "  inflating: /content/drive/My Drive/1301174673/Yolo/images/024.jpg  \n",
            "  inflating: /content/drive/My Drive/1301174673/Yolo/images/024.txt  \n",
            "  inflating: /content/drive/My Drive/1301174673/Yolo/images/025.jpg  \n",
            "  inflating: /content/drive/My Drive/1301174673/Yolo/images/025.txt  \n",
            "  inflating: /content/drive/My Drive/1301174673/Yolo/images/026.jpg  \n",
            "  inflating: /content/drive/My Drive/1301174673/Yolo/images/026.txt  \n",
            "  inflating: /content/drive/My Drive/1301174673/Yolo/images/028.jpg  \n",
            "  inflating: /content/drive/My Drive/1301174673/Yolo/images/028.txt  \n",
            "  inflating: /content/drive/My Drive/1301174673/Yolo/images/029.jpg  \n",
            "  inflating: /content/drive/My Drive/1301174673/Yolo/images/029.txt  \n",
            "  inflating: /content/drive/My Drive/1301174673/Yolo/images/030.jpg  \n",
            "  inflating: /content/drive/My Drive/1301174673/Yolo/images/030.txt  \n",
            " extracting: /content/drive/My Drive/1301174673/Yolo/images/classes.names  \n",
            " extracting: /content/drive/My Drive/1301174673/Yolo/images/classes.txt  \n",
            "  inflating: /content/drive/My Drive/1301174673/Yolo/images/creating-files-data-and-name.py  \n",
            "  inflating: /content/drive/My Drive/1301174673/Yolo/images/creating-train-and-test-txt-files.py  \n"
          ]
        }
      ]
    },
    {
      "cell_type": "code",
      "source": [
        "#melihat isi folder\n",
        "!ls '/content/drive/My Drive/1301174673/Yolo'"
      ],
      "metadata": {
        "colab": {
          "base_uri": "https://localhost:8080/"
        },
        "id": "rQiXDrRm9bUH",
        "outputId": "46e273ff-1433-4dc3-eefb-02a0a4cbf978"
      },
      "execution_count": 142,
      "outputs": [
        {
          "output_type": "stream",
          "name": "stdout",
          "text": [
            " bad.list  'darknet (1)'   images.zip\t   'mukbang 2.mp4'    Untitled1.ipynb\n",
            " darknet    images\t  'mukbang 1.mp4'   Untitled0.ipynb   weight\n"
          ]
        }
      ]
    },
    {
      "cell_type": "code",
      "source": [
        "#masuk ke direktori tempat menyimpan file\n",
        "%cd /content/drive/My Drive/1301174673/Yolo/"
      ],
      "metadata": {
        "colab": {
          "base_uri": "https://localhost:8080/"
        },
        "id": "ALbg1_K79mbu",
        "outputId": "5771ddb6-df10-494f-cee2-5e39143dd16c"
      },
      "execution_count": 143,
      "outputs": [
        {
          "output_type": "stream",
          "name": "stdout",
          "text": [
            "/content/drive/My Drive/1301174673/Yolo\n"
          ]
        }
      ]
    },
    {
      "cell_type": "code",
      "source": [
        "# membuat data test, train, dan labelled\n",
        "!python images/creating-files-data-and-name.py\n",
        "!python images/creating-train-and-test-txt-files.py"
      ],
      "metadata": {
        "id": "2MZuwoc3Al73"
      },
      "execution_count": 144,
      "outputs": []
    },
    {
      "cell_type": "code",
      "execution_count": 145,
      "metadata": {
        "colab": {
          "base_uri": "https://localhost:8080/"
        },
        "id": "STA56WlKymPg",
        "outputId": "901f6a6e-8e2e-4a01-f835-22dd40a0dc10"
      },
      "outputs": [
        {
          "output_type": "stream",
          "name": "stdout",
          "text": [
            "001.jpg  007.txt  014.jpg  021.txt  029.jpg\n",
            "001.txt  008.jpg  014.txt  022.jpg  029.txt\n",
            "002.jpg  008.txt  016.jpg  022.txt  030.jpg\n",
            "002.txt  009.jpg  016.txt  023.jpg  030.txt\n",
            "003.jpg  009.txt  017.jpg  023.txt  classes.names\n",
            "003.txt  010.jpg  017.txt  024.jpg  classes.txt\n",
            "004.jpg  010.txt  018.jpg  024.txt  creating-files-data-and-name.py\n",
            "004.txt  011.jpg  018.txt  025.jpg  creating-train-and-test-txt-files.py\n",
            "005.jpg  011.txt  019.jpg  025.txt  labelled_data.data\n",
            "005.txt  012.jpg  019.txt  026.jpg  test.txt\n",
            "006.jpg  012.txt  020.jpg  026.txt  train.txt\n",
            "006.txt  013.jpg  020.txt  028.jpg\n",
            "007.jpg  013.txt  021.jpg  028.txt\n"
          ]
        }
      ],
      "source": [
        "!ls images/"
      ]
    },
    {
      "cell_type": "markdown",
      "metadata": {
        "id": "04QPoNSnzXU7"
      },
      "source": [
        "**Training**"
      ]
    },
    {
      "cell_type": "code",
      "source": [
        "!chmod +x ./darknet\n",
        "!chmod +x ./darknet/darknet"
      ],
      "metadata": {
        "id": "IjpkfB_69uw1"
      },
      "execution_count": 146,
      "outputs": []
    },
    {
      "cell_type": "code",
      "execution_count": 148,
      "metadata": {
        "colab": {
          "base_uri": "https://localhost:8080/"
        },
        "id": "_sLkifbKymU7",
        "outputId": "77aa2f16-2e19-47b5-9989-2ca085960d2c"
      },
      "outputs": [
        {
          "output_type": "stream",
          "name": "stdout",
          "text": [
            " CUDA-version: 11010 (11020), cuDNN: 7.6.5, CUDNN_HALF=1, GPU count: 1  \n",
            " CUDNN_HALF=1 \n",
            " OpenCV version: 3.2.0\n",
            " Prepare additional network for mAP calculation...\n",
            " 0 : compute_capability = 750, cudnn_half = 1, GPU: Tesla T4 \n",
            "net.optimized_memory = 0 \n",
            "mini_batch = 1, batch = 8, time_steps = 1, train = 0 \n",
            "   layer   filters  size/strd(dil)      input                output\n",
            "   0 Create CUDA-stream - 0 \n",
            " Create cudnn-handle 0 \n",
            "conv     32       3 x 3/ 1    512 x 512 x   3 ->  512 x 512 x  32 0.453 BF\n",
            "   1 conv     64       3 x 3/ 2    512 x 512 x  32 ->  256 x 256 x  64 2.416 BF\n",
            "   2 conv     32       1 x 1/ 1    256 x 256 x  64 ->  256 x 256 x  32 0.268 BF\n",
            "   3 conv     64       3 x 3/ 1    256 x 256 x  32 ->  256 x 256 x  64 2.416 BF\n",
            "   4 Shortcut Layer: 1,  wt = 0, wn = 0, outputs: 256 x 256 x  64 0.004 BF\n",
            "   5 conv    128       3 x 3/ 2    256 x 256 x  64 ->  128 x 128 x 128 2.416 BF\n",
            "   6 conv     64       1 x 1/ 1    128 x 128 x 128 ->  128 x 128 x  64 0.268 BF\n",
            "   7 route  5 \t\t                           ->  128 x 128 x 128 \n",
            "   8 conv     64       1 x 1/ 1    128 x 128 x 128 ->  128 x 128 x  64 0.268 BF\n",
            "   9 conv     64       1 x 1/ 1    128 x 128 x  64 ->  128 x 128 x  64 0.134 BF\n",
            "  10 conv     64       3 x 3/ 1    128 x 128 x  64 ->  128 x 128 x  64 1.208 BF\n",
            "  11 Shortcut Layer: 8,  wt = 0, wn = 0, outputs: 128 x 128 x  64 0.001 BF\n",
            "  12 conv     64       1 x 1/ 1    128 x 128 x  64 ->  128 x 128 x  64 0.134 BF\n",
            "  13 conv     64       3 x 3/ 1    128 x 128 x  64 ->  128 x 128 x  64 1.208 BF\n",
            "  14 Shortcut Layer: 11,  wt = 0, wn = 0, outputs: 128 x 128 x  64 0.001 BF\n",
            "  15 conv     64       1 x 1/ 1    128 x 128 x  64 ->  128 x 128 x  64 0.134 BF\n",
            "  16 route  15 6 \t                           ->  128 x 128 x 128 \n",
            "  17 conv    128       1 x 1/ 1    128 x 128 x 128 ->  128 x 128 x 128 0.537 BF\n",
            "  18 conv    256       3 x 3/ 2    128 x 128 x 128 ->   64 x  64 x 256 2.416 BF\n",
            "  19 conv    128       1 x 1/ 1     64 x  64 x 256 ->   64 x  64 x 128 0.268 BF\n",
            "  20 route  18 \t\t                           ->   64 x  64 x 256 \n",
            "  21 conv    128       1 x 1/ 1     64 x  64 x 256 ->   64 x  64 x 128 0.268 BF\n",
            "  22 conv    128       1 x 1/ 1     64 x  64 x 128 ->   64 x  64 x 128 0.134 BF\n",
            "  23 conv    128       3 x 3/ 1     64 x  64 x 128 ->   64 x  64 x 128 1.208 BF\n",
            "  24 Shortcut Layer: 21,  wt = 0, wn = 0, outputs:  64 x  64 x 128 0.001 BF\n",
            "  25 conv    128       1 x 1/ 1     64 x  64 x 128 ->   64 x  64 x 128 0.134 BF\n",
            "  26 conv    128       3 x 3/ 1     64 x  64 x 128 ->   64 x  64 x 128 1.208 BF\n",
            "  27 Shortcut Layer: 24,  wt = 0, wn = 0, outputs:  64 x  64 x 128 0.001 BF\n",
            "  28 conv    128       1 x 1/ 1     64 x  64 x 128 ->   64 x  64 x 128 0.134 BF\n",
            "  29 conv    128       3 x 3/ 1     64 x  64 x 128 ->   64 x  64 x 128 1.208 BF\n",
            "  30 Shortcut Layer: 27,  wt = 0, wn = 0, outputs:  64 x  64 x 128 0.001 BF\n",
            "  31 conv    128       1 x 1/ 1     64 x  64 x 128 ->   64 x  64 x 128 0.134 BF\n",
            "  32 conv    128       3 x 3/ 1     64 x  64 x 128 ->   64 x  64 x 128 1.208 BF\n",
            "  33 Shortcut Layer: 30,  wt = 0, wn = 0, outputs:  64 x  64 x 128 0.001 BF\n",
            "  34 conv    128       1 x 1/ 1     64 x  64 x 128 ->   64 x  64 x 128 0.134 BF\n",
            "  35 conv    128       3 x 3/ 1     64 x  64 x 128 ->   64 x  64 x 128 1.208 BF\n",
            "  36 Shortcut Layer: 33,  wt = 0, wn = 0, outputs:  64 x  64 x 128 0.001 BF\n",
            "  37 conv    128       1 x 1/ 1     64 x  64 x 128 ->   64 x  64 x 128 0.134 BF\n",
            "  38 conv    128       3 x 3/ 1     64 x  64 x 128 ->   64 x  64 x 128 1.208 BF\n",
            "  39 Shortcut Layer: 36,  wt = 0, wn = 0, outputs:  64 x  64 x 128 0.001 BF\n",
            "  40 conv    128       1 x 1/ 1     64 x  64 x 128 ->   64 x  64 x 128 0.134 BF\n",
            "  41 conv    128       3 x 3/ 1     64 x  64 x 128 ->   64 x  64 x 128 1.208 BF\n",
            "  42 Shortcut Layer: 39,  wt = 0, wn = 0, outputs:  64 x  64 x 128 0.001 BF\n",
            "  43 conv    128       1 x 1/ 1     64 x  64 x 128 ->   64 x  64 x 128 0.134 BF\n",
            "  44 conv    128       3 x 3/ 1     64 x  64 x 128 ->   64 x  64 x 128 1.208 BF\n",
            "  45 Shortcut Layer: 42,  wt = 0, wn = 0, outputs:  64 x  64 x 128 0.001 BF\n",
            "  46 conv    128       1 x 1/ 1     64 x  64 x 128 ->   64 x  64 x 128 0.134 BF\n",
            "  47 route  46 19 \t                           ->   64 x  64 x 256 \n",
            "  48 conv    256       1 x 1/ 1     64 x  64 x 256 ->   64 x  64 x 256 0.537 BF\n",
            "  49 conv    512       3 x 3/ 2     64 x  64 x 256 ->   32 x  32 x 512 2.416 BF\n",
            "  50 conv    256       1 x 1/ 1     32 x  32 x 512 ->   32 x  32 x 256 0.268 BF\n",
            "  51 route  49 \t\t                           ->   32 x  32 x 512 \n",
            "  52 conv    256       1 x 1/ 1     32 x  32 x 512 ->   32 x  32 x 256 0.268 BF\n",
            "  53 conv    256       1 x 1/ 1     32 x  32 x 256 ->   32 x  32 x 256 0.134 BF\n",
            "  54 conv    256       3 x 3/ 1     32 x  32 x 256 ->   32 x  32 x 256 1.208 BF\n",
            "  55 Shortcut Layer: 52,  wt = 0, wn = 0, outputs:  32 x  32 x 256 0.000 BF\n",
            "  56 conv    256       1 x 1/ 1     32 x  32 x 256 ->   32 x  32 x 256 0.134 BF\n",
            "  57 conv    256       3 x 3/ 1     32 x  32 x 256 ->   32 x  32 x 256 1.208 BF\n",
            "  58 Shortcut Layer: 55,  wt = 0, wn = 0, outputs:  32 x  32 x 256 0.000 BF\n",
            "  59 conv    256       1 x 1/ 1     32 x  32 x 256 ->   32 x  32 x 256 0.134 BF\n",
            "  60 conv    256       3 x 3/ 1     32 x  32 x 256 ->   32 x  32 x 256 1.208 BF\n",
            "  61 Shortcut Layer: 58,  wt = 0, wn = 0, outputs:  32 x  32 x 256 0.000 BF\n",
            "  62 conv    256       1 x 1/ 1     32 x  32 x 256 ->   32 x  32 x 256 0.134 BF\n",
            "  63 conv    256       3 x 3/ 1     32 x  32 x 256 ->   32 x  32 x 256 1.208 BF\n",
            "  64 Shortcut Layer: 61,  wt = 0, wn = 0, outputs:  32 x  32 x 256 0.000 BF\n",
            "  65 conv    256       1 x 1/ 1     32 x  32 x 256 ->   32 x  32 x 256 0.134 BF\n",
            "  66 conv    256       3 x 3/ 1     32 x  32 x 256 ->   32 x  32 x 256 1.208 BF\n",
            "  67 Shortcut Layer: 64,  wt = 0, wn = 0, outputs:  32 x  32 x 256 0.000 BF\n",
            "  68 conv    256       1 x 1/ 1     32 x  32 x 256 ->   32 x  32 x 256 0.134 BF\n",
            "  69 conv    256       3 x 3/ 1     32 x  32 x 256 ->   32 x  32 x 256 1.208 BF\n",
            "  70 Shortcut Layer: 67,  wt = 0, wn = 0, outputs:  32 x  32 x 256 0.000 BF\n",
            "  71 conv    256       1 x 1/ 1     32 x  32 x 256 ->   32 x  32 x 256 0.134 BF\n",
            "  72 conv    256       3 x 3/ 1     32 x  32 x 256 ->   32 x  32 x 256 1.208 BF\n",
            "  73 Shortcut Layer: 70,  wt = 0, wn = 0, outputs:  32 x  32 x 256 0.000 BF\n",
            "  74 conv    256       1 x 1/ 1     32 x  32 x 256 ->   32 x  32 x 256 0.134 BF\n",
            "  75 conv    256       3 x 3/ 1     32 x  32 x 256 ->   32 x  32 x 256 1.208 BF\n",
            "  76 Shortcut Layer: 73,  wt = 0, wn = 0, outputs:  32 x  32 x 256 0.000 BF\n",
            "  77 conv    256       1 x 1/ 1     32 x  32 x 256 ->   32 x  32 x 256 0.134 BF\n",
            "  78 route  77 50 \t                           ->   32 x  32 x 512 \n",
            "  79 conv    512       1 x 1/ 1     32 x  32 x 512 ->   32 x  32 x 512 0.537 BF\n",
            "  80 conv   1024       3 x 3/ 2     32 x  32 x 512 ->   16 x  16 x1024 2.416 BF\n",
            "  81 conv    512       1 x 1/ 1     16 x  16 x1024 ->   16 x  16 x 512 0.268 BF\n",
            "  82 route  80 \t\t                           ->   16 x  16 x1024 \n",
            "  83 conv    512       1 x 1/ 1     16 x  16 x1024 ->   16 x  16 x 512 0.268 BF\n",
            "  84 conv    512       1 x 1/ 1     16 x  16 x 512 ->   16 x  16 x 512 0.134 BF\n",
            "  85 conv    512       3 x 3/ 1     16 x  16 x 512 ->   16 x  16 x 512 1.208 BF\n",
            "  86 Shortcut Layer: 83,  wt = 0, wn = 0, outputs:  16 x  16 x 512 0.000 BF\n",
            "  87 conv    512       1 x 1/ 1     16 x  16 x 512 ->   16 x  16 x 512 0.134 BF\n",
            "  88 conv    512       3 x 3/ 1     16 x  16 x 512 ->   16 x  16 x 512 1.208 BF\n",
            "  89 Shortcut Layer: 86,  wt = 0, wn = 0, outputs:  16 x  16 x 512 0.000 BF\n",
            "  90 conv    512       1 x 1/ 1     16 x  16 x 512 ->   16 x  16 x 512 0.134 BF\n",
            "  91 conv    512       3 x 3/ 1     16 x  16 x 512 ->   16 x  16 x 512 1.208 BF\n",
            "  92 Shortcut Layer: 89,  wt = 0, wn = 0, outputs:  16 x  16 x 512 0.000 BF\n",
            "  93 conv    512       1 x 1/ 1     16 x  16 x 512 ->   16 x  16 x 512 0.134 BF\n",
            "  94 conv    512       3 x 3/ 1     16 x  16 x 512 ->   16 x  16 x 512 1.208 BF\n",
            "  95 Shortcut Layer: 92,  wt = 0, wn = 0, outputs:  16 x  16 x 512 0.000 BF\n",
            "  96 conv    512       1 x 1/ 1     16 x  16 x 512 ->   16 x  16 x 512 0.134 BF\n",
            "  97 route  96 81 \t                           ->   16 x  16 x1024 \n",
            "  98 conv   1024       1 x 1/ 1     16 x  16 x1024 ->   16 x  16 x1024 0.537 BF\n",
            "  99 conv    512       1 x 1/ 1     16 x  16 x1024 ->   16 x  16 x 512 0.268 BF\n",
            " 100 route  98 \t\t                           ->   16 x  16 x1024 \n",
            " 101 conv    512       1 x 1/ 1     16 x  16 x1024 ->   16 x  16 x 512 0.268 BF\n",
            " 102 conv    512       3 x 3/ 1     16 x  16 x 512 ->   16 x  16 x 512 1.208 BF\n",
            " 103 conv    512       1 x 1/ 1     16 x  16 x 512 ->   16 x  16 x 512 0.134 BF\n",
            " 104 max                5x 5/ 1     16 x  16 x 512 ->   16 x  16 x 512 0.003 BF\n",
            " 105 route  103 \t\t                           ->   16 x  16 x 512 \n",
            " 106 max                9x 9/ 1     16 x  16 x 512 ->   16 x  16 x 512 0.011 BF\n",
            " 107 route  103 \t\t                           ->   16 x  16 x 512 \n",
            " 108 max               13x13/ 1     16 x  16 x 512 ->   16 x  16 x 512 0.022 BF\n",
            " 109 route  108 106 104 103 \t                   ->   16 x  16 x2048 \n",
            " 110 conv    512       1 x 1/ 1     16 x  16 x2048 ->   16 x  16 x 512 0.537 BF\n",
            " 111 conv    512       3 x 3/ 1     16 x  16 x 512 ->   16 x  16 x 512 1.208 BF\n",
            " 112 route  111 99 \t                           ->   16 x  16 x1024 \n",
            " 113 conv    512       1 x 1/ 1     16 x  16 x1024 ->   16 x  16 x 512 0.268 BF\n",
            " 114 conv    256       1 x 1/ 1     16 x  16 x 512 ->   16 x  16 x 256 0.067 BF\n",
            " 115 upsample                 2x    16 x  16 x 256 ->   32 x  32 x 256\n",
            " 116 route  79 \t\t                           ->   32 x  32 x 512 \n",
            " 117 conv    256       1 x 1/ 1     32 x  32 x 512 ->   32 x  32 x 256 0.268 BF\n",
            " 118 route  117 115 \t                           ->   32 x  32 x 512 \n",
            " 119 conv    256       1 x 1/ 1     32 x  32 x 512 ->   32 x  32 x 256 0.268 BF\n",
            " 120 conv    256       1 x 1/ 1     32 x  32 x 256 ->   32 x  32 x 256 0.134 BF\n",
            " 121 route  119 \t\t                           ->   32 x  32 x 256 \n",
            " 122 conv    256       1 x 1/ 1     32 x  32 x 256 ->   32 x  32 x 256 0.134 BF\n",
            " 123 conv    256       3 x 3/ 1     32 x  32 x 256 ->   32 x  32 x 256 1.208 BF\n",
            " 124 conv    256       1 x 1/ 1     32 x  32 x 256 ->   32 x  32 x 256 0.134 BF\n",
            " 125 conv    256       3 x 3/ 1     32 x  32 x 256 ->   32 x  32 x 256 1.208 BF\n",
            " 126 route  125 120 \t                           ->   32 x  32 x 512 \n",
            " 127 conv    256       1 x 1/ 1     32 x  32 x 512 ->   32 x  32 x 256 0.268 BF\n",
            " 128 conv    128       1 x 1/ 1     32 x  32 x 256 ->   32 x  32 x 128 0.067 BF\n",
            " 129 upsample                 2x    32 x  32 x 128 ->   64 x  64 x 128\n",
            " 130 route  48 \t\t                           ->   64 x  64 x 256 \n",
            " 131 conv    128       1 x 1/ 1     64 x  64 x 256 ->   64 x  64 x 128 0.268 BF\n",
            " 132 route  131 129 \t                           ->   64 x  64 x 256 \n",
            " 133 conv    128       1 x 1/ 1     64 x  64 x 256 ->   64 x  64 x 128 0.268 BF\n",
            " 134 conv    128       1 x 1/ 1     64 x  64 x 128 ->   64 x  64 x 128 0.134 BF\n",
            " 135 route  133 \t\t                           ->   64 x  64 x 128 \n",
            " 136 conv    128       1 x 1/ 1     64 x  64 x 128 ->   64 x  64 x 128 0.134 BF\n",
            " 137 conv    128       3 x 3/ 1     64 x  64 x 128 ->   64 x  64 x 128 1.208 BF\n",
            " 138 conv    128       1 x 1/ 1     64 x  64 x 128 ->   64 x  64 x 128 0.134 BF\n",
            " 139 conv    128       3 x 3/ 1     64 x  64 x 128 ->   64 x  64 x 128 1.208 BF\n",
            " 140 route  139 134 \t                           ->   64 x  64 x 256 \n",
            " 141 conv    128       1 x 1/ 1     64 x  64 x 256 ->   64 x  64 x 128 0.268 BF\n",
            " 142 conv    256       3 x 3/ 1     64 x  64 x 128 ->   64 x  64 x 256 2.416 BF\n",
            " 143 conv     24       1 x 1/ 1     64 x  64 x 256 ->   64 x  64 x  24 0.050 BF\n",
            " 144 yolo\n",
            "[yolo] params: iou loss: ciou (4), iou_norm: 0.05, obj_norm: 4.00, cls_norm: 0.50, delta_norm: 1.00, scale_x_y: 2.00\n",
            "nms_kind: diounms (2), beta = 0.600000 \n",
            " 145 route  141 \t\t                           ->   64 x  64 x 128 \n",
            " 146 conv    256       3 x 3/ 2     64 x  64 x 128 ->   32 x  32 x 256 0.604 BF\n",
            " 147 route  146 127 \t                           ->   32 x  32 x 512 \n",
            " 148 conv    256       1 x 1/ 1     32 x  32 x 512 ->   32 x  32 x 256 0.268 BF\n",
            " 149 conv    256       1 x 1/ 1     32 x  32 x 256 ->   32 x  32 x 256 0.134 BF\n",
            " 150 route  148 \t\t                           ->   32 x  32 x 256 \n",
            " 151 conv    256       1 x 1/ 1     32 x  32 x 256 ->   32 x  32 x 256 0.134 BF\n",
            " 152 conv    256       3 x 3/ 1     32 x  32 x 256 ->   32 x  32 x 256 1.208 BF\n",
            " 153 conv    256       1 x 1/ 1     32 x  32 x 256 ->   32 x  32 x 256 0.134 BF\n",
            " 154 conv    256       3 x 3/ 1     32 x  32 x 256 ->   32 x  32 x 256 1.208 BF\n",
            " 155 route  154 149 \t                           ->   32 x  32 x 512 \n",
            " 156 conv    256       1 x 1/ 1     32 x  32 x 512 ->   32 x  32 x 256 0.268 BF\n",
            " 157 conv    512       3 x 3/ 1     32 x  32 x 256 ->   32 x  32 x 512 2.416 BF\n",
            " 158 conv     24       1 x 1/ 1     32 x  32 x 512 ->   32 x  32 x  24 0.025 BF\n",
            " 159 yolo\n",
            "[yolo] params: iou loss: ciou (4), iou_norm: 0.05, obj_norm: 1.00, cls_norm: 0.50, delta_norm: 1.00, scale_x_y: 2.00\n",
            "nms_kind: diounms (2), beta = 0.600000 \n",
            " 160 route  156 \t\t                           ->   32 x  32 x 256 \n",
            " 161 conv    512       3 x 3/ 2     32 x  32 x 256 ->   16 x  16 x 512 0.604 BF\n",
            " 162 route  161 113 \t                           ->   16 x  16 x1024 \n",
            " 163 conv    512       1 x 1/ 1     16 x  16 x1024 ->   16 x  16 x 512 0.268 BF\n",
            " 164 conv    512       1 x 1/ 1     16 x  16 x 512 ->   16 x  16 x 512 0.134 BF\n",
            " 165 route  163 \t\t                           ->   16 x  16 x 512 \n",
            " 166 conv    512       1 x 1/ 1     16 x  16 x 512 ->   16 x  16 x 512 0.134 BF\n",
            " 167 conv    512       3 x 3/ 1     16 x  16 x 512 ->   16 x  16 x 512 1.208 BF\n",
            " 168 conv    512       1 x 1/ 1     16 x  16 x 512 ->   16 x  16 x 512 0.134 BF\n",
            " 169 conv    512       3 x 3/ 1     16 x  16 x 512 ->   16 x  16 x 512 1.208 BF\n",
            " 170 route  169 164 \t                           ->   16 x  16 x1024 \n",
            " 171 conv    512       1 x 1/ 1     16 x  16 x1024 ->   16 x  16 x 512 0.268 BF\n",
            " 172 conv   1024       3 x 3/ 1     16 x  16 x 512 ->   16 x  16 x1024 2.416 BF\n",
            " 173 conv     24       1 x 1/ 1     16 x  16 x1024 ->   16 x  16 x  24 0.013 BF\n",
            " 174 yolo\n",
            "[yolo] params: iou loss: ciou (4), iou_norm: 0.05, obj_norm: 0.40, cls_norm: 0.50, delta_norm: 1.00, scale_x_y: 2.00\n",
            "nms_kind: diounms (2), beta = 0.600000 \n",
            "Total BFLOPS 76.155 \n",
            "avg_outputs = 541865 \n",
            " Allocate additional workspace_size = 52.43 MB \n",
            "yolov4-csp\n",
            " 0 : compute_capability = 750, cudnn_half = 1, GPU: Tesla T4 \n",
            "net.optimized_memory = 0 \n",
            "mini_batch = 8, batch = 64, time_steps = 1, train = 1 \n",
            "   layer   filters  size/strd(dil)      input                output\n",
            "   0 conv     32       3 x 3/ 1    512 x 512 x   3 ->  512 x 512 x  32 0.453 BF\n",
            "   1 conv     64       3 x 3/ 2    512 x 512 x  32 ->  256 x 256 x  64 2.416 BF\n",
            "   2 conv     32       1 x 1/ 1    256 x 256 x  64 ->  256 x 256 x  32 0.268 BF\n",
            "   3 conv     64       3 x 3/ 1    256 x 256 x  32 ->  256 x 256 x  64 2.416 BF\n",
            "   4 Shortcut Layer: 1,  wt = 0, wn = 0, outputs: 256 x 256 x  64 0.004 BF\n",
            "   5 conv    128       3 x 3/ 2    256 x 256 x  64 ->  128 x 128 x 128 2.416 BF\n",
            "   6 conv     64       1 x 1/ 1    128 x 128 x 128 ->  128 x 128 x  64 0.268 BF\n",
            "   7 route  5 \t\t                           ->  128 x 128 x 128 \n",
            "   8 conv     64       1 x 1/ 1    128 x 128 x 128 ->  128 x 128 x  64 0.268 BF\n",
            "   9 conv     64       1 x 1/ 1    128 x 128 x  64 ->  128 x 128 x  64 0.134 BF\n",
            "  10 conv     64       3 x 3/ 1    128 x 128 x  64 ->  128 x 128 x  64 1.208 BF\n",
            "  11 Shortcut Layer: 8,  wt = 0, wn = 0, outputs: 128 x 128 x  64 0.001 BF\n",
            "  12 conv     64       1 x 1/ 1    128 x 128 x  64 ->  128 x 128 x  64 0.134 BF\n",
            "  13 conv     64       3 x 3/ 1    128 x 128 x  64 ->  128 x 128 x  64 1.208 BF\n",
            "  14 Shortcut Layer: 11,  wt = 0, wn = 0, outputs: 128 x 128 x  64 0.001 BF\n",
            "  15 conv     64       1 x 1/ 1    128 x 128 x  64 ->  128 x 128 x  64 0.134 BF\n",
            "  16 route  15 6 \t                           ->  128 x 128 x 128 \n",
            "  17 conv    128       1 x 1/ 1    128 x 128 x 128 ->  128 x 128 x 128 0.537 BF\n",
            "  18 conv    256       3 x 3/ 2    128 x 128 x 128 ->   64 x  64 x 256 2.416 BF\n",
            "  19 conv    128       1 x 1/ 1     64 x  64 x 256 ->   64 x  64 x 128 0.268 BF\n",
            "  20 route  18 \t\t                           ->   64 x  64 x 256 \n",
            "  21 conv    128       1 x 1/ 1     64 x  64 x 256 ->   64 x  64 x 128 0.268 BF\n",
            "  22 conv    128       1 x 1/ 1     64 x  64 x 128 ->   64 x  64 x 128 0.134 BF\n",
            "  23 conv    128       3 x 3/ 1     64 x  64 x 128 ->   64 x  64 x 128 1.208 BF\n",
            "  24 Shortcut Layer: 21,  wt = 0, wn = 0, outputs:  64 x  64 x 128 0.001 BF\n",
            "  25 conv    128       1 x 1/ 1     64 x  64 x 128 ->   64 x  64 x 128 0.134 BF\n",
            "  26 conv    128       3 x 3/ 1     64 x  64 x 128 ->   64 x  64 x 128 1.208 BF\n",
            "  27 Shortcut Layer: 24,  wt = 0, wn = 0, outputs:  64 x  64 x 128 0.001 BF\n",
            "  28 conv    128       1 x 1/ 1     64 x  64 x 128 ->   64 x  64 x 128 0.134 BF\n",
            "  29 conv    128       3 x 3/ 1     64 x  64 x 128 ->   64 x  64 x 128 1.208 BF\n",
            "  30 Shortcut Layer: 27,  wt = 0, wn = 0, outputs:  64 x  64 x 128 0.001 BF\n",
            "  31 conv    128       1 x 1/ 1     64 x  64 x 128 ->   64 x  64 x 128 0.134 BF\n",
            "  32 conv    128       3 x 3/ 1     64 x  64 x 128 ->   64 x  64 x 128 1.208 BF\n",
            "  33 Shortcut Layer: 30,  wt = 0, wn = 0, outputs:  64 x  64 x 128 0.001 BF\n",
            "  34 conv    128       1 x 1/ 1     64 x  64 x 128 ->   64 x  64 x 128 0.134 BF\n",
            "  35 conv    128       3 x 3/ 1     64 x  64 x 128 ->   64 x  64 x 128 1.208 BF\n",
            "  36 Shortcut Layer: 33,  wt = 0, wn = 0, outputs:  64 x  64 x 128 0.001 BF\n",
            "  37 conv    128       1 x 1/ 1     64 x  64 x 128 ->   64 x  64 x 128 0.134 BF\n",
            "  38 conv    128       3 x 3/ 1     64 x  64 x 128 ->   64 x  64 x 128 1.208 BF\n",
            "  39 Shortcut Layer: 36,  wt = 0, wn = 0, outputs:  64 x  64 x 128 0.001 BF\n",
            "  40 conv    128       1 x 1/ 1     64 x  64 x 128 ->   64 x  64 x 128 0.134 BF\n",
            "  41 conv    128       3 x 3/ 1     64 x  64 x 128 ->   64 x  64 x 128 1.208 BF\n",
            "  42 Shortcut Layer: 39,  wt = 0, wn = 0, outputs:  64 x  64 x 128 0.001 BF\n",
            "  43 conv    128       1 x 1/ 1     64 x  64 x 128 ->   64 x  64 x 128 0.134 BF\n",
            "  44 conv    128       3 x 3/ 1     64 x  64 x 128 ->   64 x  64 x 128 1.208 BF\n",
            "  45 Shortcut Layer: 42,  wt = 0, wn = 0, outputs:  64 x  64 x 128 0.001 BF\n",
            "  46 conv    128       1 x 1/ 1     64 x  64 x 128 ->   64 x  64 x 128 0.134 BF\n",
            "  47 route  46 19 \t                           ->   64 x  64 x 256 \n",
            "  48 conv    256       1 x 1/ 1     64 x  64 x 256 ->   64 x  64 x 256 0.537 BF\n",
            "  49 conv    512       3 x 3/ 2     64 x  64 x 256 ->   32 x  32 x 512 2.416 BF\n",
            "  50 conv    256       1 x 1/ 1     32 x  32 x 512 ->   32 x  32 x 256 0.268 BF\n",
            "  51 route  49 \t\t                           ->   32 x  32 x 512 \n",
            "  52 conv    256       1 x 1/ 1     32 x  32 x 512 ->   32 x  32 x 256 0.268 BF\n",
            "  53 conv    256       1 x 1/ 1     32 x  32 x 256 ->   32 x  32 x 256 0.134 BF\n",
            "  54 conv    256       3 x 3/ 1     32 x  32 x 256 ->   32 x  32 x 256 1.208 BF\n",
            "  55 Shortcut Layer: 52,  wt = 0, wn = 0, outputs:  32 x  32 x 256 0.000 BF\n",
            "  56 conv    256       1 x 1/ 1     32 x  32 x 256 ->   32 x  32 x 256 0.134 BF\n",
            "  57 conv    256       3 x 3/ 1     32 x  32 x 256 ->   32 x  32 x 256 1.208 BF\n",
            "  58 Shortcut Layer: 55,  wt = 0, wn = 0, outputs:  32 x  32 x 256 0.000 BF\n",
            "  59 conv    256       1 x 1/ 1     32 x  32 x 256 ->   32 x  32 x 256 0.134 BF\n",
            "  60 conv    256       3 x 3/ 1     32 x  32 x 256 ->   32 x  32 x 256 1.208 BF\n",
            "  61 Shortcut Layer: 58,  wt = 0, wn = 0, outputs:  32 x  32 x 256 0.000 BF\n",
            "  62 conv    256       1 x 1/ 1     32 x  32 x 256 ->   32 x  32 x 256 0.134 BF\n",
            "  63 conv    256       3 x 3/ 1     32 x  32 x 256 ->   32 x  32 x 256 1.208 BF\n",
            "  64 Shortcut Layer: 61,  wt = 0, wn = 0, outputs:  32 x  32 x 256 0.000 BF\n",
            "  65 conv    256       1 x 1/ 1     32 x  32 x 256 ->   32 x  32 x 256 0.134 BF\n",
            "  66 conv    256       3 x 3/ 1     32 x  32 x 256 ->   32 x  32 x 256 1.208 BF\n",
            "  67 Shortcut Layer: 64,  wt = 0, wn = 0, outputs:  32 x  32 x 256 0.000 BF\n",
            "  68 conv    256       1 x 1/ 1     32 x  32 x 256 ->   32 x  32 x 256 0.134 BF\n",
            "  69 conv    256       3 x 3/ 1     32 x  32 x 256 ->   32 x  32 x 256 1.208 BF\n",
            "  70 Shortcut Layer: 67,  wt = 0, wn = 0, outputs:  32 x  32 x 256 0.000 BF\n",
            "  71 conv    256       1 x 1/ 1     32 x  32 x 256 ->   32 x  32 x 256 0.134 BF\n",
            "  72 conv    256       3 x 3/ 1     32 x  32 x 256 ->   32 x  32 x 256 1.208 BF\n",
            "  73 Shortcut Layer: 70,  wt = 0, wn = 0, outputs:  32 x  32 x 256 0.000 BF\n",
            "  74 conv    256       1 x 1/ 1     32 x  32 x 256 ->   32 x  32 x 256 0.134 BF\n",
            "  75 conv    256       3 x 3/ 1     32 x  32 x 256 ->   32 x  32 x 256 1.208 BF\n",
            "  76 Shortcut Layer: 73,  wt = 0, wn = 0, outputs:  32 x  32 x 256 0.000 BF\n",
            "  77 conv    256       1 x 1/ 1     32 x  32 x 256 ->   32 x  32 x 256 0.134 BF\n",
            "  78 route  77 50 \t                           ->   32 x  32 x 512 \n",
            "  79 conv    512       1 x 1/ 1     32 x  32 x 512 ->   32 x  32 x 512 0.537 BF\n",
            "  80 conv   1024       3 x 3/ 2     32 x  32 x 512 ->   16 x  16 x1024 2.416 BF\n",
            "  81 conv    512       1 x 1/ 1     16 x  16 x1024 ->   16 x  16 x 512 0.268 BF\n",
            "  82 route  80 \t\t                           ->   16 x  16 x1024 \n",
            "  83 conv    512       1 x 1/ 1     16 x  16 x1024 ->   16 x  16 x 512 0.268 BF\n",
            "  84 conv    512       1 x 1/ 1     16 x  16 x 512 ->   16 x  16 x 512 0.134 BF\n",
            "  85 conv    512       3 x 3/ 1     16 x  16 x 512 ->   16 x  16 x 512 1.208 BF\n",
            "  86 Shortcut Layer: 83,  wt = 0, wn = 0, outputs:  16 x  16 x 512 0.000 BF\n",
            "  87 conv    512       1 x 1/ 1     16 x  16 x 512 ->   16 x  16 x 512 0.134 BF\n",
            "  88 conv    512       3 x 3/ 1     16 x  16 x 512 ->   16 x  16 x 512 1.208 BF\n",
            "  89 Shortcut Layer: 86,  wt = 0, wn = 0, outputs:  16 x  16 x 512 0.000 BF\n",
            "  90 conv    512       1 x 1/ 1     16 x  16 x 512 ->   16 x  16 x 512 0.134 BF\n",
            "  91 conv    512       3 x 3/ 1     16 x  16 x 512 ->   16 x  16 x 512 1.208 BF\n",
            "  92 Shortcut Layer: 89,  wt = 0, wn = 0, outputs:  16 x  16 x 512 0.000 BF\n",
            "  93 conv    512       1 x 1/ 1     16 x  16 x 512 ->   16 x  16 x 512 0.134 BF\n",
            "  94 conv    512       3 x 3/ 1     16 x  16 x 512 ->   16 x  16 x 512 1.208 BF\n",
            "  95 Shortcut Layer: 92,  wt = 0, wn = 0, outputs:  16 x  16 x 512 0.000 BF\n",
            "  96 conv    512       1 x 1/ 1     16 x  16 x 512 ->   16 x  16 x 512 0.134 BF\n",
            "  97 route  96 81 \t                           ->   16 x  16 x1024 \n",
            "  98 conv   1024       1 x 1/ 1     16 x  16 x1024 ->   16 x  16 x1024 0.537 BF\n",
            "  99 conv    512       1 x 1/ 1     16 x  16 x1024 ->   16 x  16 x 512 0.268 BF\n",
            " 100 route  98 \t\t                           ->   16 x  16 x1024 \n",
            " 101 conv    512       1 x 1/ 1     16 x  16 x1024 ->   16 x  16 x 512 0.268 BF\n",
            " 102 conv    512       3 x 3/ 1     16 x  16 x 512 ->   16 x  16 x 512 1.208 BF\n",
            " 103 conv    512       1 x 1/ 1     16 x  16 x 512 ->   16 x  16 x 512 0.134 BF\n",
            " 104 max                5x 5/ 1     16 x  16 x 512 ->   16 x  16 x 512 0.003 BF\n",
            " 105 route  103 \t\t                           ->   16 x  16 x 512 \n",
            " 106 max                9x 9/ 1     16 x  16 x 512 ->   16 x  16 x 512 0.011 BF\n",
            " 107 route  103 \t\t                           ->   16 x  16 x 512 \n",
            " 108 max               13x13/ 1     16 x  16 x 512 ->   16 x  16 x 512 0.022 BF\n",
            " 109 route  108 106 104 103 \t                   ->   16 x  16 x2048 \n",
            " 110 conv    512       1 x 1/ 1     16 x  16 x2048 ->   16 x  16 x 512 0.537 BF\n",
            " 111 conv    512       3 x 3/ 1     16 x  16 x 512 ->   16 x  16 x 512 1.208 BF\n",
            " 112 route  111 99 \t                           ->   16 x  16 x1024 \n",
            " 113 conv    512       1 x 1/ 1     16 x  16 x1024 ->   16 x  16 x 512 0.268 BF\n",
            " 114 conv    256       1 x 1/ 1     16 x  16 x 512 ->   16 x  16 x 256 0.067 BF\n",
            " 115 upsample                 2x    16 x  16 x 256 ->   32 x  32 x 256\n",
            " 116 route  79 \t\t                           ->   32 x  32 x 512 \n",
            " 117 conv    256       1 x 1/ 1     32 x  32 x 512 ->   32 x  32 x 256 0.268 BF\n",
            " 118 route  117 115 \t                           ->   32 x  32 x 512 \n",
            " 119 conv    256       1 x 1/ 1     32 x  32 x 512 ->   32 x  32 x 256 0.268 BF\n",
            " 120 conv    256       1 x 1/ 1     32 x  32 x 256 ->   32 x  32 x 256 0.134 BF\n",
            " 121 route  119 \t\t                           ->   32 x  32 x 256 \n",
            " 122 conv    256       1 x 1/ 1     32 x  32 x 256 ->   32 x  32 x 256 0.134 BF\n",
            " 123 conv    256       3 x 3/ 1     32 x  32 x 256 ->   32 x  32 x 256 1.208 BF\n",
            " 124 conv    256       1 x 1/ 1     32 x  32 x 256 ->   32 x  32 x 256 0.134 BF\n",
            " 125 conv    256       3 x 3/ 1     32 x  32 x 256 ->   32 x  32 x 256 1.208 BF\n",
            " 126 route  125 120 \t                           ->   32 x  32 x 512 \n",
            " 127 conv    256       1 x 1/ 1     32 x  32 x 512 ->   32 x  32 x 256 0.268 BF\n",
            " 128 conv    128       1 x 1/ 1     32 x  32 x 256 ->   32 x  32 x 128 0.067 BF\n",
            " 129 upsample                 2x    32 x  32 x 128 ->   64 x  64 x 128\n",
            " 130 route  48 \t\t                           ->   64 x  64 x 256 \n",
            " 131 conv    128       1 x 1/ 1     64 x  64 x 256 ->   64 x  64 x 128 0.268 BF\n",
            " 132 route  131 129 \t                           ->   64 x  64 x 256 \n",
            " 133 conv    128       1 x 1/ 1     64 x  64 x 256 ->   64 x  64 x 128 0.268 BF\n",
            " 134 conv    128       1 x 1/ 1     64 x  64 x 128 ->   64 x  64 x 128 0.134 BF\n",
            " 135 route  133 \t\t                           ->   64 x  64 x 128 \n",
            " 136 conv    128       1 x 1/ 1     64 x  64 x 128 ->   64 x  64 x 128 0.134 BF\n",
            " 137 conv    128       3 x 3/ 1     64 x  64 x 128 ->   64 x  64 x 128 1.208 BF\n",
            " 138 conv    128       1 x 1/ 1     64 x  64 x 128 ->   64 x  64 x 128 0.134 BF\n",
            " 139 conv    128       3 x 3/ 1     64 x  64 x 128 ->   64 x  64 x 128 1.208 BF\n",
            " 140 route  139 134 \t                           ->   64 x  64 x 256 \n",
            " 141 conv    128       1 x 1/ 1     64 x  64 x 256 ->   64 x  64 x 128 0.268 BF\n",
            " 142 conv    256       3 x 3/ 1     64 x  64 x 128 ->   64 x  64 x 256 2.416 BF\n",
            " 143 conv     24       1 x 1/ 1     64 x  64 x 256 ->   64 x  64 x  24 0.050 BF\n",
            " 144 yolo\n",
            "[yolo] params: iou loss: ciou (4), iou_norm: 0.05, obj_norm: 4.00, cls_norm: 0.50, delta_norm: 1.00, scale_x_y: 2.00\n",
            "nms_kind: diounms (2), beta = 0.600000 \n",
            " 145 route  141 \t\t                           ->   64 x  64 x 128 \n",
            " 146 conv    256       3 x 3/ 2     64 x  64 x 128 ->   32 x  32 x 256 0.604 BF\n",
            " 147 route  146 127 \t                           ->   32 x  32 x 512 \n",
            " 148 conv    256       1 x 1/ 1     32 x  32 x 512 ->   32 x  32 x 256 0.268 BF\n",
            " 149 conv    256       1 x 1/ 1     32 x  32 x 256 ->   32 x  32 x 256 0.134 BF\n",
            " 150 route  148 \t\t                           ->   32 x  32 x 256 \n",
            " 151 conv    256       1 x 1/ 1     32 x  32 x 256 ->   32 x  32 x 256 0.134 BF\n",
            " 152 conv    256       3 x 3/ 1     32 x  32 x 256 ->   32 x  32 x 256 1.208 BF\n",
            " 153 conv    256       1 x 1/ 1     32 x  32 x 256 ->   32 x  32 x 256 0.134 BF\n",
            " 154 conv    256       3 x 3/ 1     32 x  32 x 256 ->   32 x  32 x 256 1.208 BF\n",
            " 155 route  154 149 \t                           ->   32 x  32 x 512 \n",
            " 156 conv    256       1 x 1/ 1     32 x  32 x 512 ->   32 x  32 x 256 0.268 BF\n",
            " 157 conv    512       3 x 3/ 1     32 x  32 x 256 ->   32 x  32 x 512 2.416 BF\n",
            " 158 conv     24       1 x 1/ 1     32 x  32 x 512 ->   32 x  32 x  24 0.025 BF\n",
            " 159 yolo\n",
            "[yolo] params: iou loss: ciou (4), iou_norm: 0.05, obj_norm: 1.00, cls_norm: 0.50, delta_norm: 1.00, scale_x_y: 2.00\n",
            "nms_kind: diounms (2), beta = 0.600000 \n",
            " 160 route  156 \t\t                           ->   32 x  32 x 256 \n",
            " 161 conv    512       3 x 3/ 2     32 x  32 x 256 ->   16 x  16 x 512 0.604 BF\n",
            " 162 route  161 113 \t                           ->   16 x  16 x1024 \n",
            " 163 conv    512       1 x 1/ 1     16 x  16 x1024 ->   16 x  16 x 512 0.268 BF\n",
            " 164 conv    512       1 x 1/ 1     16 x  16 x 512 ->   16 x  16 x 512 0.134 BF\n",
            " 165 route  163 \t\t                           ->   16 x  16 x 512 \n",
            " 166 conv    512       1 x 1/ 1     16 x  16 x 512 ->   16 x  16 x 512 0.134 BF\n",
            " 167 conv    512       3 x 3/ 1     16 x  16 x 512 ->   16 x  16 x 512 1.208 BF\n",
            " 168 conv    512       1 x 1/ 1     16 x  16 x 512 ->   16 x  16 x 512 0.134 BF\n",
            " 169 conv    512       3 x 3/ 1     16 x  16 x 512 ->   16 x  16 x 512 1.208 BF\n",
            " 170 route  169 164 \t                           ->   16 x  16 x1024 \n",
            " 171 conv    512       1 x 1/ 1     16 x  16 x1024 ->   16 x  16 x 512 0.268 BF\n",
            " 172 conv   1024       3 x 3/ 1     16 x  16 x 512 ->   16 x  16 x1024 2.416 BF\n",
            " 173 conv     24       1 x 1/ 1     16 x  16 x1024 ->   16 x  16 x  24 0.013 BF\n",
            " 174 yolo\n",
            "[yolo] params: iou loss: ciou (4), iou_norm: 0.05, obj_norm: 0.40, cls_norm: 0.50, delta_norm: 1.00, scale_x_y: 2.00\n",
            "nms_kind: diounms (2), beta = 0.600000 \n",
            "Total BFLOPS 76.155 \n",
            "avg_outputs = 541865 \n",
            " Allocate additional workspace_size = 202.94 MB \n",
            "Loading weights from weight/yolov4-csp.weights...\n",
            " seen 64, trained: 0 K-images (0 Kilo-batches_64) \n",
            "Done! Loaded 175 layers from weights-file \n",
            "Learning Rate: 0.001, Momentum: 0.949, Decay: 0.0005\n",
            " Detection layer: 144 - type = 28 \n",
            " Detection layer: 159 - type = 28 \n",
            " Detection layer: 174 - type = 28 \n",
            " Create 6 permanent cpu-threads \n"
          ]
        }
      ],
      "source": [
        "!darknet/darknet detector train images/labelled_data.data darknet/cfg/yolov4-csp.cfg weight/yolov4-csp.weights -dont_show -map"
      ]
    },
    {
      "cell_type": "markdown",
      "source": [
        "# OpenCV"
      ],
      "metadata": {
        "id": "wBlqsCKRA_Iu"
      }
    },
    {
      "cell_type": "code",
      "source": [
        "from google.colab.patches import cv2_imshow\n",
        "import cv2\n",
        "import numpy as np\n",
        "import glob\n",
        "import random\n",
        "import time\n",
        "import os\n",
        "import matplotlib.pyplot as plt\n",
        "%matplotlib inline"
      ],
      "metadata": {
        "id": "YRZoGxOOL0dh"
      },
      "execution_count": 151,
      "outputs": []
    },
    {
      "cell_type": "code",
      "execution_count": 152,
      "metadata": {
        "id": "z09nwYELzKfF"
      },
      "outputs": [],
      "source": [
        "# Load Yolo\n",
        "net = cv2.dnn.readNet(\"weight/yolov4-csp.weights\", \"darknet/cfg/yolov4-csp.cfg\")"
      ]
    },
    {
      "cell_type": "code",
      "execution_count": 153,
      "metadata": {
        "id": "y6kkHv8hzKh0"
      },
      "outputs": [],
      "source": [
        "classes = []\n",
        "with open(\"images/classes.names\", \"r\") as f:\n",
        "    classes = [line.strip() for line in f.readlines()]"
      ]
    },
    {
      "cell_type": "code",
      "source": [
        "images_path = glob.glob(r\"images/010.jpg\") \n",
        "layer_names = net.getLayerNames()\n",
        "output_layers = [layer_names[i[0] - 1] for i in net.getUnconnectedOutLayers()]\n",
        "colors = np.random.uniform(0, 255, size=(len(classes), 3))\n",
        "random.shuffle(images_path)"
      ],
      "metadata": {
        "id": "oas3h7RVbiKy"
      },
      "execution_count": 154,
      "outputs": []
    },
    {
      "cell_type": "code",
      "source": [
        "for img_path in images_path:\n",
        "    img = cv2.imread(img_path)\n",
        "    img = cv2.resize(img, (480,360))\n",
        "    height, width, channels = img.shape\n",
        "\n",
        "    blob = cv2.dnn.blobFromImage(img, 0.00392, (416, 416), (0, 0, 0), True, crop=False)\n",
        "\n",
        "    net.setInput(blob)\n",
        "    start = time.time()\n",
        "    outs = net.forward(output_layers)\n",
        "    end = time.time()\n",
        "    print(\"[INFO] Waktu deteksi yolo {:.6f} detik\".format(end - start))\n",
        "\n",
        "    class_ids = []\n",
        "    confidences = []\n",
        "    boxes = []\n",
        "    for out in outs:\n",
        "        for detection in out:\n",
        "            scores = detection[5:]\n",
        "            class_id = np.argmax(scores)\n",
        "            confidence = scores[class_id]\n",
        "            if confidence > 0.3:\n",
        "                print(class_id)\n",
        "                \n",
        "                center_x = int(detection[0] * width)\n",
        "                center_y = int(detection[1] * height)\n",
        "                w = int(detection[2] * width)\n",
        "                h = int(detection[3] * height)\n",
        "                x = int(center_x - w / 2)\n",
        "                y = int(center_y - h / 2)\n",
        "                boxes.append([x, y, w, h])\n",
        "                confidences.append(float(confidence))\n",
        "                class_ids.append(class_id)\n",
        "\n",
        "    font = cv2.FONT_HERSHEY_PLAIN\n",
        "    indexes = cv2.dnn.NMSBoxes(boxes, confidences, 0.5, 0.4)\n",
        "    unique, counts = np.unique(class_ids, return_counts=True)\n",
        "    tambah=0\n",
        "    cv2.rectangle(img, (3, 3), (165, 80), (0,0,255), 1)\n",
        "    for i in range (len(counts)):\n",
        "                    cv2.putText(img,str(classes[i])+\" = \"+str(counts[i]), (5,15+tambah),font,1, (0,0,255), 1)\n",
        "                    tambah=tambah+15\n",
        "    print(indexes)\n",
        "\n",
        "\n",
        "    daftar=[]\n",
        "    for i in range(len(boxes)):\n",
        "        if i in indexes:\n",
        "            x, y, w, h = boxes[i]\n",
        "            label = str(classes[class_ids[i]])\n",
        "            daftar.append(label)\n",
        "            color = colors[class_ids[i]]\n",
        "            cv2.rectangle(img, (x, y), (x + w, y + h), color, 1)\n",
        "            text = \"{}: {:.2f}\".format(label, confidences[i])\n",
        "            cv2.putText(img, text, (x, y - 5), cv2.FONT_HERSHEY_SIMPLEX,\n",
        "                        0.5, color, 1)\n",
        "\n",
        "    print(daftar)\n",
        "    \n",
        "    cv2.imshow(img)\n",
        "    key = cv2.waitKey(0)\n",
        "    \n",
        "cv2.destroyAllWindows()"
      ],
      "metadata": {
        "id": "INDWhzJEAg63"
      },
      "execution_count": null,
      "outputs": []
    }
  ],
  "metadata": {
    "colab": {
      "name": "Untitled0.ipynb",
      "provenance": [],
      "collapsed_sections": []
    },
    "kernelspec": {
      "display_name": "Python 3",
      "name": "python3"
    },
    "language_info": {
      "name": "python"
    },
    "accelerator": "GPU",
    "gpuClass": "standard"
  },
  "nbformat": 4,
  "nbformat_minor": 0
}